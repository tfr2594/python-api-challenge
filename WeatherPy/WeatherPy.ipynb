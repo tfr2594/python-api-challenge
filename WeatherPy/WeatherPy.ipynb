{
 "cells": [
  {
   "cell_type": "markdown",
   "metadata": {},
   "source": [
    "# WeatherPy\n",
    "----\n",
    "\n",
    "#### Note\n",
    "* Instructions have been included for each segment. You do not have to follow them exactly, but they are included to help you think through the steps."
   ]
  },
  {
   "cell_type": "code",
   "execution_count": 1,
   "metadata": {
    "scrolled": true
   },
   "outputs": [],
   "source": [
    "# Dependencies and Setup\n",
    "import matplotlib.pyplot as plt\n",
    "import pandas as pd\n",
    "import numpy as np\n",
    "import requests\n",
    "import time\n",
    "from scipy.stats import linregress\n",
    "\n",
    "# Import API key\n",
    "from api_keys import weather_api_key\n",
    "\n",
    "# Incorporated citipy to determine city based on latitude and longitude\n",
    "from citipy import citipy\n",
    "\n",
    "# Output File (CSV)\n",
    "output_data_file = \"output_data/cities.csv\"\n",
    "\n",
    "# Range of latitudes and longitudes\n",
    "lat_range = (-90, 90)\n",
    "lng_range = (-180, 180)"
   ]
  },
  {
   "cell_type": "markdown",
   "metadata": {},
   "source": [
    "## Generate Cities List"
   ]
  },
  {
   "cell_type": "code",
   "execution_count": 2,
   "metadata": {},
   "outputs": [
    {
     "data": {
      "text/plain": [
       "603"
      ]
     },
     "execution_count": 2,
     "metadata": {},
     "output_type": "execute_result"
    }
   ],
   "source": [
    "# List for holding lat_lngs and cities\n",
    "lat_lngs = []\n",
    "cities = []\n",
    "\n",
    "# Create a set of random lat and lng combinations\n",
    "lats = np.random.uniform(lat_range[0], lat_range[1], size=1500)\n",
    "lngs = np.random.uniform(lng_range[0], lng_range[1], size=1500)\n",
    "lat_lngs = zip(lats, lngs)\n",
    "\n",
    "# Identify nearest city for each lat, lng combination\n",
    "for lat_lng in lat_lngs:\n",
    "    city = citipy.nearest_city(lat_lng[0], lat_lng[1]).city_name\n",
    "    \n",
    "    # If the city is unique, then add it to a our cities list\n",
    "    if city not in cities:\n",
    "        cities.append(city)\n",
    "\n",
    "# Print the city count to confirm sufficient count\n",
    "len(cities)"
   ]
  },
  {
   "cell_type": "markdown",
   "metadata": {},
   "source": [
    "### Perform API Calls\n",
    "* Perform a weather check on each city using a series of successive API calls.\n",
    "* Include a print log of each city as it'sbeing processed (with the city number and city name).\n"
   ]
  },
  {
   "cell_type": "code",
   "execution_count": 3,
   "metadata": {},
   "outputs": [
    {
     "name": "stdout",
     "output_type": "stream",
     "text": [
      "Beginning Data Retrieval\n",
      "--------------------------------------------\n",
      "Processing record 1|chenzhou\n",
      "Processing record 2|los negros\n",
      "Processing record 3|flin flon\n",
      "Processing record 4|punta arenas\n",
      "Processing record 5|gawler\n",
      "Processing record 6|praia da vitoria\n",
      "Processing record 7|mar del plata\n",
      "Processing record 8|vaini\n",
      "Processing record 9|tasiilaq\n",
      "Processing record 10|jamestown\n",
      "Processing record 11|cape town\n",
      "Processing record 12|voh\n",
      "Processing record 13|mahebourg\n",
      "Processing record 14|arraial do cabo\n",
      "Processing record 15|bontang\n",
      "Processing record 16|nikolskoye\n",
      "Processing record 17|labrea\n",
      "Processing record 18|tiksi\n",
      "Processing record 19|manavalakurichi\n",
      "Processing record 20|saint george\n",
      "Processing record 21|hamilton\n",
      "Processing record 22|port elizabeth\n",
      "Processing record 23|kavieng\n",
      "Processing record 24|yulara\n",
      "Processing record 25|ushuaia\n",
      "Processing record 26|barrow\n",
      "Processing record 27|milkovo\n",
      "Processing record 28|mataura\n",
      "City not found. skipping.\n",
      "Processing record 29|camacha\n",
      "Processing record 30|kodiak\n",
      "Processing record 31|norman wells\n",
      "Processing record 32|ilam\n",
      "Processing record 33|rikitea\n",
      "Processing record 34|hermanus\n",
      "Processing record 35|fairbanks\n",
      "Processing record 36|hobart\n",
      "Processing record 37|sur\n",
      "Processing record 38|carmo do paranaiba\n",
      "Processing record 39|lagoa\n",
      "Processing record 40|sao filipe\n",
      "Processing record 41|qaanaaq\n",
      "Processing record 42|iranduba\n",
      "Processing record 43|nanortalik\n",
      "City not found. skipping.\n",
      "Processing record 44|lukovetskiy\n",
      "Processing record 45|ahipara\n",
      "Processing record 46|aklavik\n",
      "Processing record 47|pato branco\n",
      "Processing record 48|guerrero negro\n",
      "Processing record 49|torbay\n",
      "Processing record 50|butaritari\n",
      "Processing record 51|albany\n",
      "Processing record 52|dickinson\n",
      "City not found. skipping.\n",
      "Processing record 53|port lincoln\n",
      "Processing record 54|alice springs\n",
      "Processing record 55|lillooet\n",
      "Processing record 56|bata\n",
      "City not found. skipping.\n",
      "Processing record 57|lomovka\n",
      "Processing record 58|chenghai\n",
      "Processing record 59|oskemen\n",
      "Processing record 60|safaga\n",
      "Processing record 61|sanmenxia\n",
      "Processing record 62|lebu\n",
      "Processing record 63|ilulissat\n",
      "Processing record 64|nizwa\n",
      "Processing record 65|campos novos\n",
      "City not found. skipping.\n",
      "Processing record 66|vardo\n",
      "Processing record 67|busselton\n",
      "Processing record 68|kapaa\n",
      "Processing record 69|shache\n",
      "City not found. skipping.\n",
      "Processing record 70|buchanan\n",
      "Processing record 71|broken hill\n",
      "Processing record 72|east london\n",
      "Processing record 73|yellowknife\n",
      "Processing record 74|clyde river\n",
      "Processing record 75|faanui\n",
      "City not found. skipping.\n",
      "Processing record 76|baraki barak\n",
      "Processing record 77|saskylakh\n",
      "Processing record 78|hofn\n",
      "Processing record 79|adrar\n",
      "Processing record 80|srednekolymsk\n",
      "Processing record 81|finschhafen\n",
      "Processing record 82|rock springs\n",
      "Processing record 83|puerto ayora\n",
      "City not found. skipping.\n",
      "City not found. skipping.\n",
      "Processing record 84|saint-philippe\n",
      "Processing record 85|kargil\n",
      "Processing record 86|upernavik\n",
      "Processing record 87|sao felix do xingu\n",
      "Processing record 88|port hedland\n",
      "Processing record 89|avarua\n",
      "Processing record 90|atuona\n",
      "Processing record 91|port alfred\n",
      "City not found. skipping.\n",
      "Processing record 92|villefranche-de-rouergue\n",
      "Processing record 93|carnarvon\n",
      "Processing record 94|buala\n",
      "Processing record 95|payo\n",
      "Processing record 96|sola\n",
      "Processing record 97|severo-kurilsk\n",
      "Processing record 98|robertsport\n",
      "Processing record 99|cabo san lucas\n",
      "City not found. skipping.\n",
      "Processing record 100|richards bay\n",
      "Processing record 101|kaitangata\n",
      "Processing record 102|okhotsk\n",
      "Processing record 103|lompoc\n",
      "Processing record 104|leh\n",
      "Processing record 105|itarema\n",
      "Processing record 106|georgetown\n",
      "City not found. skipping.\n",
      "Processing record 107|castro\n",
      "Processing record 108|salalah\n",
      "Processing record 109|ponta do sol\n",
      "Processing record 110|kupang\n",
      "City not found. skipping.\n",
      "Processing record 111|ancud\n",
      "Processing record 112|airai\n",
      "Processing record 113|bindki\n",
      "Processing record 114|nuuk\n",
      "Processing record 115|mezen\n",
      "Processing record 116|rovenki\n",
      "Processing record 117|coquimbo\n",
      "Processing record 118|komsomolskiy\n",
      "Processing record 119|bull savanna\n",
      "Processing record 120|provideniya\n",
      "Processing record 121|carire\n",
      "Processing record 122|dikson\n",
      "Processing record 123|hithadhoo\n",
      "Processing record 124|iberia\n",
      "Processing record 125|new norfolk\n",
      "Processing record 126|padang\n",
      "Processing record 127|alugan\n",
      "Processing record 128|bethel\n",
      "Processing record 129|ocumare del tuy\n",
      "Processing record 130|lagunas\n",
      "Processing record 131|tabuk\n",
      "Processing record 132|gamba\n",
      "Processing record 133|oshakati\n",
      "Processing record 134|lac du bonnet\n",
      "Processing record 135|kerema\n",
      "Processing record 136|datong\n",
      "Processing record 137|saint-pierre\n",
      "Processing record 138|rabo de peixe\n",
      "Processing record 139|royan\n",
      "Processing record 140|bredasdorp\n",
      "Processing record 141|hilo\n",
      "Processing record 142|touros\n",
      "Processing record 143|san ignacio\n",
      "Processing record 144|daund\n",
      "Processing record 145|sao joao da barra\n",
      "Processing record 146|bluff\n",
      "Processing record 147|belyy yar\n",
      "Processing record 148|pozo colorado\n",
      "Processing record 149|vostok\n",
      "Processing record 150|vila franca do campo\n",
      "Processing record 151|wajima\n",
      "Processing record 152|lipari\n",
      "Processing record 153|tuktoyaktuk\n",
      "City not found. skipping.\n",
      "Processing record 154|creston\n",
      "Processing record 155|belaya gora\n",
      "Processing record 156|longyearbyen\n",
      "Processing record 157|comodoro rivadavia\n",
      "Processing record 158|sebring\n",
      "Processing record 159|yar-sale\n",
      "Processing record 160|manta\n",
      "Processing record 161|batagay-alyta\n",
      "City not found. skipping.\n",
      "Processing record 162|portland\n",
      "Processing record 163|namibe\n",
      "Processing record 164|cidreira\n",
      "Processing record 165|bambous virieux\n",
      "Processing record 166|makakilo city\n",
      "Processing record 167|quatre cocos\n",
      "Processing record 168|ostrovnoy\n",
      "Processing record 169|severomuysk\n",
      "Processing record 170|port hardy\n",
      "Processing record 171|mount gambier\n",
      "Processing record 172|trelew\n",
      "Processing record 173|abancay\n",
      "Processing record 174|chisinau\n",
      "Processing record 175|klaksvik\n",
      "Processing record 176|fortuna\n",
      "Processing record 177|ponta delgada\n",
      "Processing record 178|sambava\n",
      "Processing record 179|ballina\n",
      "Processing record 180|ribeira grande\n",
      "Processing record 181|yerbogachen\n",
      "Processing record 182|namatanai\n",
      "Processing record 183|oksfjord\n",
      "Processing record 184|zhanaozen\n",
      "City not found. skipping.\n",
      "Processing record 185|vestmannaeyjar\n",
      "Processing record 186|meligalas\n",
      "City not found. skipping.\n",
      "Processing record 187|ardon\n",
      "Processing record 188|saldanha\n",
      "Processing record 189|hualmay\n",
      "Processing record 190|deyang\n",
      "City not found. skipping.\n",
      "Processing record 191|mehamn\n",
      "Processing record 192|bisert\n",
      "Processing record 193|mount isa\n",
      "Processing record 194|faya\n",
      "Processing record 195|olavarria\n",
      "Processing record 196|mindelo\n",
      "Processing record 197|rocky mountain house\n",
      "Processing record 198|martapura\n",
      "Processing record 199|marsh harbour\n",
      "Processing record 200|tautira\n",
      "Processing record 201|ziyang\n",
      "Processing record 202|kambove\n",
      "Processing record 203|tongchuan\n",
      "Processing record 204|roald\n",
      "Processing record 205|kilindoni\n",
      "Processing record 206|emerald\n",
      "City not found. skipping.\n",
      "Processing record 207|tupik\n",
      "Processing record 208|erzin\n",
      "City not found. skipping.\n",
      "Processing record 209|zhangjiakou\n",
      "Processing record 210|constitucion\n",
      "Processing record 211|batagay\n",
      "Processing record 212|corn island\n",
      "Processing record 213|north bend\n",
      "Processing record 214|raudeberg\n",
      "Processing record 215|funtua\n",
      "Processing record 216|shitanjing\n",
      "Processing record 217|fez\n",
      "City not found. skipping.\n",
      "Processing record 218|labuhan\n",
      "Processing record 219|caravelas\n",
      "Processing record 220|kruisfontein\n",
      "City not found. skipping.\n",
      "Processing record 221|muros\n",
      "Processing record 222|henties bay\n",
      "Processing record 223|wick\n",
      "Processing record 224|preobrazheniye\n",
      "Processing record 225|flinders\n",
      "Processing record 226|korla\n",
      "City not found. skipping.\n",
      "Processing record 227|katsuura\n",
      "Processing record 228|beringovskiy\n",
      "Processing record 229|kargasok\n",
      "Processing record 230|hasaki\n",
      "Processing record 231|paamiut\n",
      "Processing record 232|laguna\n",
      "Processing record 233|alofi\n",
      "Processing record 234|khatanga\n",
      "Processing record 235|cascais\n",
      "Processing record 236|malakal\n",
      "Processing record 237|san patricio\n",
      "Processing record 238|silopi\n",
      "Processing record 239|powell\n",
      "Processing record 240|whyalla\n",
      "Processing record 241|kudahuvadhoo\n",
      "Processing record 242|imeni poliny osipenko\n"
     ]
    },
    {
     "name": "stdout",
     "output_type": "stream",
     "text": [
      "Processing record 243|grafton\n",
      "Processing record 244|isiolo\n",
      "Processing record 245|luganville\n",
      "Processing record 246|handan\n",
      "Processing record 247|bengkulu\n",
      "Processing record 248|clearlake\n",
      "City not found. skipping.\n",
      "Processing record 249|chicama\n",
      "Processing record 250|jinka\n",
      "Processing record 251|victoria\n",
      "Processing record 252|upington\n",
      "Processing record 253|hambantota\n",
      "Processing record 254|neubrandenburg\n",
      "Processing record 255|salamanca\n",
      "Processing record 256|lumberton\n",
      "Processing record 257|zlocieniec\n",
      "Processing record 258|aasiaat\n",
      "Processing record 259|tahe\n",
      "Processing record 260|nuevitas\n",
      "Processing record 261|teknaf\n",
      "Processing record 262|san jeronimito\n",
      "Processing record 263|mackay\n",
      "Processing record 264|maningrida\n",
      "Processing record 265|sibolga\n",
      "Processing record 266|beloha\n",
      "Processing record 267|coihaique\n",
      "Processing record 268|matara\n",
      "Processing record 269|thompson\n",
      "Processing record 270|santa isabel do rio negro\n",
      "Processing record 271|pisco\n",
      "Processing record 272|petatlan\n",
      "Processing record 273|korhogo\n",
      "Processing record 274|kunashak\n",
      "Processing record 275|quang ngai\n",
      "Processing record 276|christchurch\n",
      "Processing record 277|balikpapan\n",
      "Processing record 278|leningradskiy\n",
      "Processing record 279|mayo\n",
      "Processing record 280|shimoda\n",
      "Processing record 281|tavagnacco\n",
      "Processing record 282|leeton\n",
      "Processing record 283|neiafu\n",
      "City not found. skipping.\n",
      "Processing record 284|baykit\n",
      "City not found. skipping.\n",
      "Processing record 285|pindi bhattian\n",
      "Processing record 286|shieli\n",
      "Processing record 287|cap malheureux\n",
      "Processing record 288|ruteng\n",
      "Processing record 289|kindu\n",
      "Processing record 290|bonthe\n",
      "Processing record 291|waipawa\n",
      "Processing record 292|souillac\n",
      "Processing record 293|chokurdakh\n",
      "Processing record 294|beira\n",
      "Processing record 295|vila velha\n",
      "Processing record 296|grand gaube\n",
      "Processing record 297|araouane\n",
      "Processing record 298|anzio\n",
      "Processing record 299|pasni\n",
      "Processing record 300|lyuban\n",
      "City not found. skipping.\n",
      "Processing record 301|carballo\n",
      "Processing record 302|olafsvik\n",
      "Processing record 303|iqaluit\n",
      "Processing record 304|prince rupert\n",
      "Processing record 305|batemans bay\n",
      "Processing record 306|kayerkan\n",
      "Processing record 307|cayenne\n",
      "City not found. skipping.\n",
      "Processing record 308|sitka\n",
      "Processing record 309|oussouye\n",
      "Processing record 310|alto araguaia\n",
      "Processing record 311|luzhou\n",
      "Processing record 312|bathsheba\n",
      "Processing record 313|anchovy\n",
      "Processing record 314|sept-iles\n",
      "Processing record 315|isparta\n",
      "Processing record 316|rio grande\n",
      "Processing record 317|saint-junien\n",
      "Processing record 318|nichinan\n",
      "Processing record 319|porosozero\n",
      "Processing record 320|tyrma\n",
      "Processing record 321|ilhabela\n",
      "Processing record 322|kungurtug\n",
      "Processing record 323|miramar\n",
      "Processing record 324|drobak\n",
      "Processing record 325|miquelon\n",
      "City not found. skipping.\n",
      "Processing record 326|galesong\n",
      "Processing record 327|strzelce opolskie\n",
      "Processing record 328|pevek\n",
      "Processing record 329|high level\n",
      "Processing record 330|carutapera\n",
      "Processing record 331|narsaq\n",
      "Processing record 332|mufumbwe\n",
      "Processing record 333|anloga\n",
      "Processing record 334|bambanglipuro\n",
      "Processing record 335|aktau\n",
      "Processing record 336|ormara\n",
      "Processing record 337|tilichiki\n",
      "Processing record 338|dhidhdhoo\n",
      "Processing record 339|bubaque\n",
      "City not found. skipping.\n",
      "Processing record 340|moron\n",
      "Processing record 341|novochernorechenskiy\n",
      "Processing record 342|yarmouth\n",
      "Processing record 343|mahajanga\n",
      "Processing record 344|grindavik\n",
      "Processing record 345|kununurra\n",
      "Processing record 346|surt\n",
      "City not found. skipping.\n",
      "Processing record 347|sonoita\n",
      "Processing record 348|vinh\n",
      "Processing record 349|poronaysk\n",
      "Processing record 350|rawson\n",
      "Processing record 351|dillon\n",
      "Processing record 352|ukiah\n",
      "Processing record 353|winnemucca\n",
      "Processing record 354|bulgan\n",
      "Processing record 355|warri\n",
      "Processing record 356|luderitz\n",
      "Processing record 357|ibatiba\n",
      "Processing record 358|intorsura buzaului\n",
      "Processing record 359|velyka bahachka\n",
      "Processing record 360|cortland\n",
      "Processing record 361|tukrah\n",
      "Processing record 362|taoudenni\n",
      "Processing record 363|hovd\n",
      "Processing record 364|tortoli\n",
      "City not found. skipping.\n",
      "Processing record 365|edd\n",
      "Processing record 366|half moon bay\n",
      "Processing record 367|mweka\n",
      "Processing record 368|am timan\n",
      "Processing record 369|brownsville\n",
      "Processing record 370|obihiro\n",
      "Processing record 371|khorixas\n",
      "Processing record 372|kavaratti\n",
      "Processing record 373|eenhana\n",
      "Processing record 374|sechura\n",
      "Processing record 375|husavik\n",
      "Processing record 376|camacupa\n",
      "Processing record 377|talnakh\n",
      "Processing record 378|riverton\n",
      "Processing record 379|lima\n",
      "Processing record 380|ucluelet\n",
      "Processing record 381|garmsar\n",
      "Processing record 382|aleksandrovsk-sakhalinskiy\n",
      "Processing record 383|port moresby\n",
      "Processing record 384|tynda\n",
      "Processing record 385|severnoye\n",
      "Processing record 386|grand-santi\n",
      "City not found. skipping.\n",
      "Processing record 387|los llanos de aridane\n",
      "Processing record 388|zhigansk\n",
      "Processing record 389|erdenet\n",
      "Processing record 390|massakory\n",
      "Processing record 391|eyl\n",
      "Processing record 392|necochea\n",
      "City not found. skipping.\n",
      "Processing record 393|saysain\n",
      "Processing record 394|evensk\n",
      "Processing record 395|saint anthony\n",
      "City not found. skipping.\n",
      "Processing record 396|mahibadhoo\n",
      "Processing record 397|odweyne\n",
      "Processing record 398|iwanai\n",
      "Processing record 399|pangnirtung\n",
      "Processing record 400|margate\n",
      "Processing record 401|zlobin\n",
      "Processing record 402|nyaunglebin\n",
      "Processing record 403|sorland\n",
      "Processing record 404|kidal\n",
      "Processing record 405|demir hisar\n",
      "Processing record 406|bogovarovo\n",
      "Processing record 407|san lorenzo\n",
      "Processing record 408|baruun-urt\n",
      "Processing record 409|nosivka\n",
      "Processing record 410|deputatskiy\n",
      "City not found. skipping.\n",
      "Processing record 411|shingu\n",
      "Processing record 412|acarau\n",
      "Processing record 413|san blas\n",
      "City not found. skipping.\n",
      "Processing record 414|qaqortoq\n",
      "City not found. skipping.\n",
      "City not found. skipping.\n",
      "Processing record 415|vila do maio\n",
      "Processing record 416|shupiyan\n",
      "Processing record 417|chuy\n",
      "Processing record 418|etchoropo\n",
      "Processing record 419|isla mujeres\n",
      "Processing record 420|ivankiv\n",
      "Processing record 421|makinsk\n",
      "Processing record 422|udachnyy\n",
      "City not found. skipping.\n",
      "Processing record 423|esperance\n",
      "Processing record 424|kahului\n",
      "City not found. skipping.\n",
      "City not found. skipping.\n",
      "Processing record 425|puerto leguizamo\n",
      "Processing record 426|geraldton\n",
      "City not found. skipping.\n",
      "City not found. skipping.\n",
      "Processing record 427|seoul\n",
      "Processing record 428|ustka\n",
      "Processing record 429|tommot\n",
      "City not found. skipping.\n",
      "Processing record 430|tabas\n",
      "Processing record 431|chigorodo\n",
      "Processing record 432|lalmohan\n",
      "Processing record 433|pangody\n",
      "Processing record 434|yeppoon\n",
      "Processing record 435|shemgang\n",
      "Processing record 436|wainwright\n",
      "Processing record 437|daru\n",
      "Processing record 438|teguldet\n",
      "City not found. skipping.\n",
      "Processing record 439|strai\n",
      "Processing record 440|coahuayana\n",
      "Processing record 441|fort nelson\n",
      "Processing record 442|palmer\n",
      "Processing record 443|aksay\n",
      "Processing record 444|nantucket\n",
      "Processing record 445|tahoua\n",
      "Processing record 446|tsumeb\n",
      "Processing record 447|fenoarivo\n",
      "Processing record 448|luau\n",
      "Processing record 449|manthani\n",
      "Processing record 450|taltal\n",
      "Processing record 451|ambon\n",
      "Processing record 452|waitati\n",
      "Processing record 453|ust-kuyga\n",
      "Processing record 454|launceston\n",
      "Processing record 455|ayagoz\n",
      "Processing record 456|acapulco\n",
      "Processing record 457|tecoanapa\n",
      "Processing record 458|apastovo\n",
      "Processing record 459|mabamba\n",
      "Processing record 460|pontianak\n",
      "Processing record 461|cherskiy\n",
      "Processing record 462|shahreza\n",
      "Processing record 463|lagos\n",
      "Processing record 464|pacific grove\n",
      "Processing record 465|omsukchan\n",
      "Processing record 466|iskateley\n",
      "Processing record 467|harper\n",
      "Processing record 468|nikolsk\n",
      "Processing record 469|sinnamary\n",
      "Processing record 470|dzhebariki-khaya\n",
      "Processing record 471|cockburn town\n",
      "Processing record 472|livingston\n",
      "Processing record 473|ndele\n",
      "Processing record 474|codrington\n",
      "Processing record 475|asau\n",
      "Processing record 476|kutum\n",
      "Processing record 477|cam ranh\n",
      "Processing record 478|garowe\n",
      "Processing record 479|sarh\n",
      "Processing record 480|guhagar\n",
      "Processing record 481|delaware\n",
      "City not found. skipping.\n",
      "Processing record 482|vicuna\n",
      "Processing record 483|guanica\n",
      "Processing record 484|sikonge\n",
      "Processing record 485|hami\n"
     ]
    },
    {
     "name": "stdout",
     "output_type": "stream",
     "text": [
      "Processing record 486|isabela\n",
      "Processing record 487|goderich\n",
      "Processing record 488|coffs harbour\n",
      "Processing record 489|bartica\n",
      "Processing record 490|sao desiderio\n",
      "Processing record 491|siniscola\n",
      "City not found. skipping.\n",
      "Processing record 492|mogadishu\n",
      "Processing record 493|peace river\n",
      "Processing record 494|bonavista\n",
      "Processing record 495|yumen\n",
      "Processing record 496|asosa\n",
      "Processing record 497|broome\n",
      "Processing record 498|saint-augustin\n",
      "Processing record 499|santa marta\n",
      "Processing record 500|suntar\n",
      "Processing record 501|el centro\n",
      "Processing record 502|lorengau\n",
      "Processing record 503|nadym\n",
      "Processing record 504|dingle\n",
      "Processing record 505|santa fe\n",
      "Processing record 506|avera\n",
      "City not found. skipping.\n",
      "Processing record 507|lerwick\n",
      "Processing record 508|marzuq\n",
      "Processing record 509|verkhoyansk\n",
      "Processing record 510|puerto escondido\n",
      "Processing record 511|tuatapere\n",
      "Processing record 512|ferrol\n",
      "Processing record 513|vokhma\n",
      "Processing record 514|ostersund\n",
      "Processing record 515|jambi\n",
      "Processing record 516|praia\n",
      "Processing record 517|wasilla\n",
      "Processing record 518|lakatoro\n",
      "City not found. skipping.\n",
      "Processing record 519|dicabisagan\n",
      "Processing record 520|penha\n",
      "Processing record 521|saint-francois\n",
      "Processing record 522|port macquarie\n",
      "Processing record 523|pimentel\n",
      "Processing record 524|tekari\n",
      "Processing record 525|liberal\n",
      "Processing record 526|krasnoselkup\n",
      "Processing record 527|tigre\n",
      "Processing record 528|lumphat\n",
      "Processing record 529|imbituba\n",
      "Processing record 530|alanya\n",
      "Processing record 531|inuvik\n",
      "Processing record 532|grootfontein\n",
      "Processing record 533|ekhabi\n",
      "Processing record 534|purpe\n",
      "Processing record 535|elizabeth city\n",
      "Processing record 536|zandvoort\n",
      "Processing record 537|manyana\n",
      "Processing record 538|kita\n",
      "City not found. skipping.\n",
      "Processing record 539|hirara\n",
      "Processing record 540|kloulklubed\n",
      "Processing record 541|sorong\n",
      "Processing record 542|porto walter\n",
      "Processing record 543|pembroke pines\n",
      "Processing record 544|sitamarhi\n",
      "Processing record 545|shizunai\n",
      "Processing record 546|santa maria\n",
      "Processing record 547|dudinka\n",
      "Processing record 548|qom\n",
      "City not found. skipping.\n",
      "Processing record 549|strezhevoy\n",
      "Processing record 550|talcahuano\n",
      "Processing record 551|kabansk\n"
     ]
    }
   ],
   "source": [
    "#the hardest part\n",
    "url = \"http://api.openweathermap.org/data/2.5/weather?units=Imperial&\"\n",
    "\n",
    "lat = []\n",
    "lng = []\n",
    "city_name = []\n",
    "country = []\n",
    "date = []\n",
    "cloudiness = []\n",
    "max_temp = []\n",
    "humidity = []\n",
    "wind_speed = []\n",
    "\n",
    "\n",
    "print(\"Beginning Data Retrieval\")\n",
    "print(\"--------------------------------------------\")\n",
    "#start the loop through the cities for the url to grab it's info\n",
    "count = 1\n",
    "for city in cities:\n",
    "    city = city\n",
    "    query_url = f\"{url}appid={weather_api_key}&q={city}\"\n",
    "    response = requests.get(query_url).json()   \n",
    "\n",
    "#making sure the code doesn't break  \n",
    "    try: \n",
    "        cloudiness.append(response[\"clouds\"][\"all\"])\n",
    "        country.append(response[\"sys\"][\"country\"])\n",
    "        date.append(response[\"dt\"])\n",
    "        max_temp.append(response[\"main\"]['temp_max'])\n",
    "        humidity.append(response[\"main\"]['humidity'])\n",
    "        lat.append(response[\"coord\"][\"lat\"])  \n",
    "        lng.append(response[\"coord\"][\"lon\"])\n",
    "        wind_speed.append(response[\"wind\"][\"speed\"])\n",
    "        city_name.append(response[\"name\"])\n",
    "        print(f\"Processing record {x}|{city}\")\n",
    "#needs to sleep or it will cost moneyyy\n",
    "        count = count + 1 \n",
    "        time.sleep(1.5)\n",
    "        \n",
    "    except (KeyError):\n",
    "        print(\"City not found. skipping.\")\n",
    "       "
   ]
  },
  {
   "cell_type": "code",
   "execution_count": null,
   "metadata": {
    "scrolled": true
   },
   "outputs": [],
   "source": []
  },
  {
   "cell_type": "markdown",
   "metadata": {},
   "source": [
    "### Convert Raw Data to DataFrame\n",
    "* Export the city data into a .csv.\n",
    "* Display the DataFrame"
   ]
  },
  {
   "cell_type": "code",
   "execution_count": 9,
   "metadata": {},
   "outputs": [
    {
     "data": {
      "text/html": [
       "<div>\n",
       "<style scoped>\n",
       "    .dataframe tbody tr th:only-of-type {\n",
       "        vertical-align: middle;\n",
       "    }\n",
       "\n",
       "    .dataframe tbody tr th {\n",
       "        vertical-align: top;\n",
       "    }\n",
       "\n",
       "    .dataframe thead th {\n",
       "        text-align: right;\n",
       "    }\n",
       "</style>\n",
       "<table border=\"1\" class=\"dataframe\">\n",
       "  <thead>\n",
       "    <tr style=\"text-align: right;\">\n",
       "      <th></th>\n",
       "      <th>City</th>\n",
       "      <th>Lat</th>\n",
       "      <th>Lng</th>\n",
       "      <th>Max Temp</th>\n",
       "      <th>Humidity</th>\n",
       "      <th>Cloudiness</th>\n",
       "      <th>Wind Speed</th>\n",
       "      <th>Country</th>\n",
       "      <th>Date</th>\n",
       "    </tr>\n",
       "  </thead>\n",
       "  <tbody>\n",
       "    <tr>\n",
       "      <th>0</th>\n",
       "      <td>Chenzhou</td>\n",
       "      <td>25.8000</td>\n",
       "      <td>113.0333</td>\n",
       "      <td>64.76</td>\n",
       "      <td>83</td>\n",
       "      <td>100</td>\n",
       "      <td>6.15</td>\n",
       "      <td>CN</td>\n",
       "      <td>1633660180</td>\n",
       "    </tr>\n",
       "    <tr>\n",
       "      <th>1</th>\n",
       "      <td>Los Negros</td>\n",
       "      <td>-17.7333</td>\n",
       "      <td>-63.4333</td>\n",
       "      <td>72.95</td>\n",
       "      <td>63</td>\n",
       "      <td>47</td>\n",
       "      <td>3.38</td>\n",
       "      <td>BO</td>\n",
       "      <td>1633660181</td>\n",
       "    </tr>\n",
       "    <tr>\n",
       "      <th>2</th>\n",
       "      <td>Flin Flon</td>\n",
       "      <td>54.7682</td>\n",
       "      <td>-101.8650</td>\n",
       "      <td>44.33</td>\n",
       "      <td>46</td>\n",
       "      <td>5</td>\n",
       "      <td>5.70</td>\n",
       "      <td>CA</td>\n",
       "      <td>1633660183</td>\n",
       "    </tr>\n",
       "    <tr>\n",
       "      <th>3</th>\n",
       "      <td>Punta Arenas</td>\n",
       "      <td>-53.1500</td>\n",
       "      <td>-70.9167</td>\n",
       "      <td>44.71</td>\n",
       "      <td>61</td>\n",
       "      <td>0</td>\n",
       "      <td>17.27</td>\n",
       "      <td>CL</td>\n",
       "      <td>1633660185</td>\n",
       "    </tr>\n",
       "    <tr>\n",
       "      <th>4</th>\n",
       "      <td>Gawler</td>\n",
       "      <td>-34.6000</td>\n",
       "      <td>138.7333</td>\n",
       "      <td>71.22</td>\n",
       "      <td>31</td>\n",
       "      <td>100</td>\n",
       "      <td>11.14</td>\n",
       "      <td>AU</td>\n",
       "      <td>1633660187</td>\n",
       "    </tr>\n",
       "  </tbody>\n",
       "</table>\n",
       "</div>"
      ],
      "text/plain": [
       "           City      Lat       Lng  Max Temp  Humidity  Cloudiness  \\\n",
       "0      Chenzhou  25.8000  113.0333     64.76        83         100   \n",
       "1    Los Negros -17.7333  -63.4333     72.95        63          47   \n",
       "2     Flin Flon  54.7682 -101.8650     44.33        46           5   \n",
       "3  Punta Arenas -53.1500  -70.9167     44.71        61           0   \n",
       "4        Gawler -34.6000  138.7333     71.22        31         100   \n",
       "\n",
       "   Wind Speed Country        Date  \n",
       "0        6.15      CN  1633660180  \n",
       "1        3.38      BO  1633660181  \n",
       "2        5.70      CA  1633660183  \n",
       "3       17.27      CL  1633660185  \n",
       "4       11.14      AU  1633660187  "
      ]
     },
     "execution_count": 9,
     "metadata": {},
     "output_type": "execute_result"
    }
   ],
   "source": [
    "#Creating city dataframe\n",
    "cities_df = pd.DataFrame({\"City\":city_name, \n",
    "                        \"Lat\":lat,\n",
    "                        \"Lng\":lng,\n",
    "                        \"Max Temp\":max_temp,\n",
    "                        \"Humidity\":humidity,\n",
    "                        \"Cloudiness\":cloudiness,\n",
    "                        \"Wind Speed\":wind_speed,\n",
    "                        \"Country\":country,  \n",
    "                        \"Date\":date})\n",
    "\n",
    "\n",
    "cities_df.head()"
   ]
  },
  {
   "cell_type": "code",
   "execution_count": 85,
   "metadata": {},
   "outputs": [],
   "source": [
    "#save it to a csv for vacationpy\n",
    "cities_df.to_csv(\"cities.csv\", encoding=\"utf-8\", index=False)"
   ]
  },
  {
   "cell_type": "markdown",
   "metadata": {},
   "source": [
    "## Inspect the data and remove the cities where the humidity > 100%.\n",
    "----\n",
    "Skip this step if there are no cities that have humidity > 100%. "
   ]
  },
  {
   "cell_type": "code",
   "execution_count": 21,
   "metadata": {},
   "outputs": [],
   "source": [
    "#there are no cities with above >100% humidity, i tid to find one using the loc method"
   ]
  },
  {
   "cell_type": "code",
   "execution_count": null,
   "metadata": {},
   "outputs": [],
   "source": [
    "#  Get the indices of cities that have humidity over 100%.\n"
   ]
  },
  {
   "cell_type": "code",
   "execution_count": null,
   "metadata": {},
   "outputs": [],
   "source": [
    "# Make a new DataFrame equal to the city data to drop all humidity outliers by index.\n",
    "# Passing \"inplace=False\" will make a copy of the city_data DataFrame, which we call \"clean_city_data\".\n"
   ]
  },
  {
   "cell_type": "code",
   "execution_count": null,
   "metadata": {},
   "outputs": [],
   "source": [
    "\n"
   ]
  },
  {
   "cell_type": "markdown",
   "metadata": {},
   "source": [
    "## Plotting the Data\n",
    "* Use proper labeling of the plots using plot titles (including date of analysis) and axes labels.\n",
    "* Save the plotted figures as .pngs."
   ]
  },
  {
   "cell_type": "markdown",
   "metadata": {},
   "source": [
    "I just have to copy and past the same set up, but change the labels and the columns used, but all the data is already collected."
   ]
  },
  {
   "cell_type": "markdown",
   "metadata": {},
   "source": [
    "## Latitude vs. Temperature Plot"
   ]
  },
  {
   "cell_type": "code",
   "execution_count": 91,
   "metadata": {
    "scrolled": true
   },
   "outputs": [
    {
     "data": {
      "image/png": "[encoded data removed]",
      "text/plain": [
       "<Figure size 432x288 with 1 Axes>"
      ]
     },
     "metadata": {
      "needs_background": "light"
     },
     "output_type": "display_data"
    }
   ],
   "source": [
    "\n",
    "#Creating plot\n",
    "plt.scatter(cities_df[\"Lat\"], cities_df[\"Max Temp\"], marker = \"o\", color = \"blue\",edgecolor = \"black\")\n",
    "plt.grid()\n",
    "plt.xlabel(\"Latitude\")\n",
    "plt.ylabel(\"Max Temperature (F)\")\n",
    "plt.title(\"City Latitude & Max Temp\")\n",
    "plt.savefig(\"output_data/Lat_maxtemp\")\n",
    "plt.show()"
   ]
  },
  {
   "cell_type": "markdown",
   "metadata": {},
   "source": [
    "## Latitude vs. Humidity Plot"
   ]
  },
  {
   "cell_type": "code",
   "execution_count": 92,
   "metadata": {},
   "outputs": [
    {
     "data": {
      "image/png": "[encoded data removed]",
      "text/plain": [
       "<Figure size 432x288 with 1 Axes>"
      ]
     },
     "metadata": {
      "needs_background": "light"
     },
     "output_type": "display_data"
    }
   ],
   "source": [
    "plt.scatter(cities_df[\"Lat\"], cities_df[\"Humidity\"], marker = \"o\", color = \"blue\",edgecolor = \"black\")\n",
    "plt.grid()\n",
    "plt.ylim(0, cities_df[\"Humidity\"].max()+10)\n",
    "plt.xlabel(\"Latitude\")\n",
    "plt.ylabel(\"Humidity(%)\")\n",
    "plt.title(f\"City Latitude & Humidity\")\n",
    "plt.savefig(\"output_data/Lat_humidity\")\n",
    "plt.show()"
   ]
  },
  {
   "cell_type": "markdown",
   "metadata": {},
   "source": [
    "## Latitude vs. Cloudiness Plot"
   ]
  },
  {
   "cell_type": "code",
   "execution_count": 93,
   "metadata": {},
   "outputs": [
    {
     "data": {
      "image/png": "[encoded data removed]",
      "text/plain": [
       "<Figure size 432x288 with 1 Axes>"
      ]
     },
     "metadata": {
      "needs_background": "light"
     },
     "output_type": "display_data"
    }
   ],
   "source": [
    "plt.scatter(city_df[\"Lat\"], city_df[\"Cloudiness\"], marker = \"o\", color = \"blue\",edgecolor = \"black\")\n",
    "plt.grid()\n",
    "plt.xlabel(\"Latitude\")\n",
    "plt.ylabel(\"Cloudiness(%)\")\n",
    "plt.title(f\"City Latitude & Cloudiness (%)\")\n",
    "plt.savefig(\"output_data/Lat_clouds\")\n",
    "plt.show()"
   ]
  },
  {
   "cell_type": "markdown",
   "metadata": {},
   "source": [
    "## Latitude vs. Wind Speed Plot"
   ]
  },
  {
   "cell_type": "code",
   "execution_count": 94,
   "metadata": {},
   "outputs": [
    {
     "data": {
      "image/png": "[encoded data removed]",
      "text/plain": [
       "<Figure size 432x288 with 1 Axes>"
      ]
     },
     "metadata": {
      "needs_background": "light"
     },
     "output_type": "display_data"
    }
   ],
   "source": [
    "plt.scatter(city_df[\"Lat\"], city_df[\"Wind Speed\"], marker = \"o\", color = \"blue\",edgecolor = \"black\")\n",
    "plt.grid()\n",
    "plt.xlabel(\"Latitude\")\n",
    "plt.ylabel(\"Wind Speed(mph)\")\n",
    "plt.title(f\"City Latitude & Wind Speed (MPH)\")\n",
    "plt.savefig(\"output_data/Lat_windy\")\n",
    "plt.show()"
   ]
  },
  {
   "cell_type": "markdown",
   "metadata": {},
   "source": [
    "## Linear Regression"
   ]
  },
  {
   "cell_type": "code",
   "execution_count": 48,
   "metadata": {},
   "outputs": [
    {
     "data": {
      "text/html": [
       "<div>\n",
       "<style scoped>\n",
       "    .dataframe tbody tr th:only-of-type {\n",
       "        vertical-align: middle;\n",
       "    }\n",
       "\n",
       "    .dataframe tbody tr th {\n",
       "        vertical-align: top;\n",
       "    }\n",
       "\n",
       "    .dataframe thead th {\n",
       "        text-align: right;\n",
       "    }\n",
       "</style>\n",
       "<table border=\"1\" class=\"dataframe\">\n",
       "  <thead>\n",
       "    <tr style=\"text-align: right;\">\n",
       "      <th></th>\n",
       "      <th>City</th>\n",
       "      <th>Lat</th>\n",
       "      <th>Lng</th>\n",
       "      <th>Max Temp</th>\n",
       "      <th>Humidity</th>\n",
       "      <th>Cloudiness</th>\n",
       "      <th>Wind Speed</th>\n",
       "      <th>Country</th>\n",
       "      <th>Date</th>\n",
       "    </tr>\n",
       "  </thead>\n",
       "  <tbody>\n",
       "    <tr>\n",
       "      <th>0</th>\n",
       "      <td>Chenzhou</td>\n",
       "      <td>25.8000</td>\n",
       "      <td>113.0333</td>\n",
       "      <td>64.76</td>\n",
       "      <td>83</td>\n",
       "      <td>100</td>\n",
       "      <td>6.15</td>\n",
       "      <td>CN</td>\n",
       "      <td>1633660180</td>\n",
       "    </tr>\n",
       "    <tr>\n",
       "      <th>2</th>\n",
       "      <td>Flin Flon</td>\n",
       "      <td>54.7682</td>\n",
       "      <td>-101.8650</td>\n",
       "      <td>44.33</td>\n",
       "      <td>46</td>\n",
       "      <td>5</td>\n",
       "      <td>5.70</td>\n",
       "      <td>CA</td>\n",
       "      <td>1633660183</td>\n",
       "    </tr>\n",
       "    <tr>\n",
       "      <th>5</th>\n",
       "      <td>Praia da Vitória</td>\n",
       "      <td>38.7333</td>\n",
       "      <td>-27.0667</td>\n",
       "      <td>66.76</td>\n",
       "      <td>94</td>\n",
       "      <td>20</td>\n",
       "      <td>4.23</td>\n",
       "      <td>PT</td>\n",
       "      <td>1633660189</td>\n",
       "    </tr>\n",
       "    <tr>\n",
       "      <th>8</th>\n",
       "      <td>Tasiilaq</td>\n",
       "      <td>65.6145</td>\n",
       "      <td>-37.6368</td>\n",
       "      <td>32.16</td>\n",
       "      <td>53</td>\n",
       "      <td>19</td>\n",
       "      <td>8.90</td>\n",
       "      <td>GL</td>\n",
       "      <td>1633660194</td>\n",
       "    </tr>\n",
       "    <tr>\n",
       "      <th>9</th>\n",
       "      <td>Jamestown</td>\n",
       "      <td>42.0970</td>\n",
       "      <td>-79.2353</td>\n",
       "      <td>66.29</td>\n",
       "      <td>90</td>\n",
       "      <td>90</td>\n",
       "      <td>1.99</td>\n",
       "      <td>US</td>\n",
       "      <td>1633660122</td>\n",
       "    </tr>\n",
       "    <tr>\n",
       "      <th>...</th>\n",
       "      <td>...</td>\n",
       "      <td>...</td>\n",
       "      <td>...</td>\n",
       "      <td>...</td>\n",
       "      <td>...</td>\n",
       "      <td>...</td>\n",
       "      <td>...</td>\n",
       "      <td>...</td>\n",
       "      <td>...</td>\n",
       "    </tr>\n",
       "    <tr>\n",
       "      <th>544</th>\n",
       "      <td>Shizunai-furukawachō</td>\n",
       "      <td>42.3339</td>\n",
       "      <td>142.3669</td>\n",
       "      <td>62.38</td>\n",
       "      <td>61</td>\n",
       "      <td>22</td>\n",
       "      <td>11.01</td>\n",
       "      <td>JP</td>\n",
       "      <td>1633661223</td>\n",
       "    </tr>\n",
       "    <tr>\n",
       "      <th>546</th>\n",
       "      <td>Dudinka</td>\n",
       "      <td>69.4058</td>\n",
       "      <td>86.1778</td>\n",
       "      <td>34.99</td>\n",
       "      <td>99</td>\n",
       "      <td>100</td>\n",
       "      <td>9.35</td>\n",
       "      <td>RU</td>\n",
       "      <td>1633661240</td>\n",
       "    </tr>\n",
       "    <tr>\n",
       "      <th>547</th>\n",
       "      <td>Qom</td>\n",
       "      <td>34.6401</td>\n",
       "      <td>50.8764</td>\n",
       "      <td>54.52</td>\n",
       "      <td>57</td>\n",
       "      <td>0</td>\n",
       "      <td>6.96</td>\n",
       "      <td>IR</td>\n",
       "      <td>1633661242</td>\n",
       "    </tr>\n",
       "    <tr>\n",
       "      <th>548</th>\n",
       "      <td>Strezhevoy</td>\n",
       "      <td>60.7333</td>\n",
       "      <td>77.5889</td>\n",
       "      <td>39.18</td>\n",
       "      <td>90</td>\n",
       "      <td>99</td>\n",
       "      <td>10.89</td>\n",
       "      <td>RU</td>\n",
       "      <td>1633661244</td>\n",
       "    </tr>\n",
       "    <tr>\n",
       "      <th>550</th>\n",
       "      <td>Kabansk</td>\n",
       "      <td>52.0486</td>\n",
       "      <td>106.6528</td>\n",
       "      <td>39.69</td>\n",
       "      <td>70</td>\n",
       "      <td>99</td>\n",
       "      <td>5.37</td>\n",
       "      <td>RU</td>\n",
       "      <td>1633661250</td>\n",
       "    </tr>\n",
       "  </tbody>\n",
       "</table>\n",
       "<p>376 rows × 9 columns</p>\n",
       "</div>"
      ],
      "text/plain": [
       "                     City      Lat       Lng  Max Temp  Humidity  Cloudiness  \\\n",
       "0                Chenzhou  25.8000  113.0333     64.76        83         100   \n",
       "2               Flin Flon  54.7682 -101.8650     44.33        46           5   \n",
       "5        Praia da Vitória  38.7333  -27.0667     66.76        94          20   \n",
       "8                Tasiilaq  65.6145  -37.6368     32.16        53          19   \n",
       "9               Jamestown  42.0970  -79.2353     66.29        90          90   \n",
       "..                    ...      ...       ...       ...       ...         ...   \n",
       "544  Shizunai-furukawachō  42.3339  142.3669     62.38        61          22   \n",
       "546               Dudinka  69.4058   86.1778     34.99        99         100   \n",
       "547                   Qom  34.6401   50.8764     54.52        57           0   \n",
       "548            Strezhevoy  60.7333   77.5889     39.18        90          99   \n",
       "550               Kabansk  52.0486  106.6528     39.69        70          99   \n",
       "\n",
       "     Wind Speed Country        Date  \n",
       "0          6.15      CN  1633660180  \n",
       "2          5.70      CA  1633660183  \n",
       "5          4.23      PT  1633660189  \n",
       "8          8.90      GL  1633660194  \n",
       "9          1.99      US  1633660122  \n",
       "..          ...     ...         ...  \n",
       "544       11.01      JP  1633661223  \n",
       "546        9.35      RU  1633661240  \n",
       "547        6.96      IR  1633661242  \n",
       "548       10.89      RU  1633661244  \n",
       "550        5.37      RU  1633661250  \n",
       "\n",
       "[376 rows x 9 columns]"
      ]
     },
     "execution_count": 48,
     "metadata": {},
     "output_type": "execute_result"
    }
   ],
   "source": [
    "#separate the the hemisphers by loc lat for the next graphs\n",
    "north_hem_df = cities_df.loc[(cities_df['Lat']>0)]\n",
    "south_hem_df = cities_df.loc[(cities_df['Lat'] < 0)]\n",
    "north_hem_df"
   ]
  },
  {
   "cell_type": "markdown",
   "metadata": {},
   "source": [
    "From previous hw to remind how to do linear regression\n",
    "\n",
    "x_values = avg_cap_vol['Weight (g)']\n",
    "y_values = avg_cap_vol['Tumor Volume (mm3)']\n",
    "\n",
    "(slope, intercept, rvalue, pvalue, stderr) = linregress(x_values, y_values)\n",
    "regress_values = x_values * slope + intercept\n",
    "\n",
    "line_eq = \"y = \" + str(round(slope,2)) + \"x + \" + str(round(intercept,2))\n",
    "\n",
    "plt.scatter(x_values,y_values)\n",
    "plt.plot(x_values,regress_values,\"r-\")\n",
    "plt.xlabel('Weight (g)') \n",
    "plt.ylabel('Average Tumore Volume (mm3)')\n",
    "plt.annotate(line_eq,(22,40),fontsize=10,color=\"red\")\n",
    "plt.show()"
   ]
  },
  {
   "cell_type": "markdown",
   "metadata": {},
   "source": [
    "####  Northern Hemisphere - Max Temp vs. Latitude Linear Regression"
   ]
  },
  {
   "cell_type": "code",
   "execution_count": 96,
   "metadata": {},
   "outputs": [
    {
     "data": {
      "image/png": "[encoded data removed]",
      "text/plain": [
       "<Figure size 432x288 with 1 Axes>"
      ]
     },
     "metadata": {
      "needs_background": "light"
     },
     "output_type": "display_data"
    }
   ],
   "source": [
    "x_values = north_hem_df[\"Lat\"]\n",
    "y_values = north_hem_df[\"Max Temp\"]\n",
    "\n",
    "(slope, intercept, rvalue, pvalue, stderr) = linregress(x_values, y_values)\n",
    "regress_values = x_values * slope + intercept\n",
    "\n",
    "line_eq = \"y = \" + str(round(slope,2)) + \"x + \" + str(round(intercept,2))\n",
    "\n",
    "plt.scatter(x_values,y_values)\n",
    "plt.plot(x_values,regress_values,\"r-\")\n",
    "plt.xlabel(\"Lat\") \n",
    "plt.ylabel(\"Temp\")\n",
    "plt.title(\"Latitude vs Temp\")\n",
    "plt.annotate(line_eq,(10,40),fontsize=10,color=\"red\")\n",
    "plt.savefig(\"output_data/maxtemp_latitude_regres\")\n",
    "plt.show()\n"
   ]
  },
  {
   "cell_type": "markdown",
   "metadata": {},
   "source": [
    "####  Southern Hemisphere - Max Temp vs. Latitude Linear Regression"
   ]
  },
  {
   "cell_type": "code",
   "execution_count": 97,
   "metadata": {},
   "outputs": [
    {
     "data": {
      "image/png": "[encoded data removed]",
      "text/plain": [
       "<Figure size 432x288 with 1 Axes>"
      ]
     },
     "metadata": {
      "needs_background": "light"
     },
     "output_type": "display_data"
    }
   ],
   "source": [
    "x_values = south_hem_df[\"Lat\"]\n",
    "y_values = south_hem_df[\"Max Temp\"]\n",
    "\n",
    "(slope, intercept, rvalue, pvalue, stderr) = linregress(x_values, y_values)\n",
    "regress_values = x_values * slope + intercept\n",
    "\n",
    "line_eq = \"y = \" + str(round(slope,2)) + \"x + \" + str(round(intercept,2))\n",
    "\n",
    "plt.scatter(x_values,y_values)\n",
    "plt.plot(x_values,regress_values,\"r-\")\n",
    "plt.xlabel(\"Lat\") \n",
    "plt.ylabel(\"Temp\")\n",
    "plt.title(\"Latitude vs Temp\")\n",
    "plt.annotate(line_eq,(-22,40),fontsize=10,color=\"red\")\n",
    "plt.savefig(\"output_data/maxtemp_southlatitude_regres\")\n",
    "plt.show()"
   ]
  },
  {
   "cell_type": "markdown",
   "metadata": {},
   "source": [
    "####  Northern Hemisphere - Humidity (%) vs. Latitude Linear Regression"
   ]
  },
  {
   "cell_type": "code",
   "execution_count": 98,
   "metadata": {},
   "outputs": [
    {
     "data": {
      "image/png": "[encoded data removed]",
      "text/plain": [
       "<Figure size 432x288 with 1 Axes>"
      ]
     },
     "metadata": {
      "needs_background": "light"
     },
     "output_type": "display_data"
    }
   ],
   "source": [
    "x_values = north_hem_df[\"Lat\"]\n",
    "y_values = north_hem_df[\"Humidity\"]\n",
    "\n",
    "(slope, intercept, rvalue, pvalue, stderr) = linregress(x_values, y_values)\n",
    "regress_values = x_values * slope + intercept\n",
    "\n",
    "line_eq = \"y = \" + str(round(slope,2)) + \"x + \" + str(round(intercept,2))\n",
    "\n",
    "plt.scatter(x_values,y_values)\n",
    "plt.plot(x_values,regress_values,\"r-\")\n",
    "plt.xlabel(\"Lat\") \n",
    "plt.ylabel(\"Humidity %\")\n",
    "plt.title(\"Latitude vs Humidity\")\n",
    "plt.annotate(line_eq,(42,20),fontsize=10,color=\"red\")\n",
    "plt.savefig(\"output_data/humidity_northlatitude_regres\")\n",
    "plt.show()"
   ]
  },
  {
   "cell_type": "markdown",
   "metadata": {},
   "source": [
    "####  Southern Hemisphere - Humidity (%) vs. Latitude Linear Regression"
   ]
  },
  {
   "cell_type": "code",
   "execution_count": 99,
   "metadata": {},
   "outputs": [
    {
     "data": {
      "image/png": "[encoded data removed]",
      "text/plain": [
       "<Figure size 432x288 with 1 Axes>"
      ]
     },
     "metadata": {
      "needs_background": "light"
     },
     "output_type": "display_data"
    }
   ],
   "source": [
    "x_values = south_hem_df[\"Lat\"]\n",
    "y_values = south_hem_df[\"Humidity\"]\n",
    "\n",
    "(slope, intercept, rvalue, pvalue, stderr) = linregress(x_values, y_values)\n",
    "regress_values = x_values * slope + intercept\n",
    "\n",
    "line_eq = \"y = \" + str(round(slope,2)) + \"x + \" + str(round(intercept,2))\n",
    "\n",
    "plt.scatter(x_values,y_values)\n",
    "plt.plot(x_values,regress_values,\"r-\")\n",
    "plt.xlabel(\"Lat\") \n",
    "plt.ylabel(\"Humidity %\")\n",
    "plt.title(\"Latitude vs Humidity\")\n",
    "plt.annotate(line_eq,(-52,40),fontsize=10,color=\"red\")\n",
    "plt.savefig(\"output_data/humidity_southlatitude_regres\")\n",
    "plt.show()"
   ]
  },
  {
   "cell_type": "markdown",
   "metadata": {},
   "source": [
    "####  Northern Hemisphere - Cloudiness (%) vs. Latitude Linear Regression"
   ]
  },
  {
   "cell_type": "code",
   "execution_count": 100,
   "metadata": {},
   "outputs": [
    {
     "data": {
      "image/png": "[encoded data removed]",
      "text/plain": [
       "<Figure size 432x288 with 1 Axes>"
      ]
     },
     "metadata": {
      "needs_background": "light"
     },
     "output_type": "display_data"
    }
   ],
   "source": [
    "x_values = north_hem_df[\"Lat\"]\n",
    "y_values = north_hem_df[\"Cloudiness\"]\n",
    "\n",
    "(slope, intercept, rvalue, pvalue, stderr) = linregress(x_values, y_values)\n",
    "regress_values = x_values * slope + intercept\n",
    "\n",
    "line_eq = \"y = \" + str(round(slope,2)) + \"x + \" + str(round(intercept,2))\n",
    "\n",
    "plt.scatter(x_values,y_values)\n",
    "plt.plot(x_values,regress_values,\"r-\")\n",
    "plt.xlabel(\"Lat\") \n",
    "plt.ylabel(\"Cloudiness %\")\n",
    "plt.title(\"Latitude vs Cloudiness\")\n",
    "plt.annotate(line_eq,(22,40),fontsize=10,color=\"red\")\n",
    "plt.savefig(\"output_data/cloudiness_northlatitude_regres\")\n",
    "plt.show()"
   ]
  },
  {
   "cell_type": "markdown",
   "metadata": {},
   "source": [
    "####  Southern Hemisphere - Cloudiness (%) vs. Latitude Linear Regression"
   ]
  },
  {
   "cell_type": "code",
   "execution_count": 101,
   "metadata": {},
   "outputs": [
    {
     "data": {
      "image/png": "[encoded data removed]",
      "text/plain": [
       "<Figure size 432x288 with 1 Axes>"
      ]
     },
     "metadata": {
      "needs_background": "light"
     },
     "output_type": "display_data"
    }
   ],
   "source": [
    "x_values = south_hem_df[\"Lat\"]\n",
    "y_values = south_hem_df[\"Cloudiness\"]\n",
    "\n",
    "(slope, intercept, rvalue, pvalue, stderr) = linregress(x_values, y_values)\n",
    "regress_values = x_values * slope + intercept\n",
    "\n",
    "line_eq = \"y = \" + str(round(slope,2)) + \"x + \" + str(round(intercept,2))\n",
    "\n",
    "plt.scatter(x_values,y_values)\n",
    "plt.plot(x_values,regress_values,\"r-\")\n",
    "plt.xlabel(\"Lat\") \n",
    "plt.ylabel(\"Cloudiness %\")\n",
    "plt.title(\"Latitude vs Cloudiness\")\n",
    "plt.annotate(line_eq,(-52,20),fontsize=10,color=\"red\")\n",
    "plt.savefig(\"output_data/cloudiness_southlatitude_regres\")\n",
    "plt.show()"
   ]
  },
  {
   "cell_type": "markdown",
   "metadata": {},
   "source": [
    "####  Northern Hemisphere - Wind Speed (mph) vs. Latitude Linear Regression"
   ]
  },
  {
   "cell_type": "code",
   "execution_count": 102,
   "metadata": {},
   "outputs": [
    {
     "data": {
      "image/png": "[encoded data removed]",
      "text/plain": [
       "<Figure size 432x288 with 1 Axes>"
      ]
     },
     "metadata": {
      "needs_background": "light"
     },
     "output_type": "display_data"
    }
   ],
   "source": [
    "x_values = north_hem_df[\"Lat\"]\n",
    "y_values = north_hem_df[\"Wind Speed\"]\n",
    "\n",
    "(slope, intercept, rvalue, pvalue, stderr) = linregress(x_values, y_values)\n",
    "regress_values = x_values * slope + intercept\n",
    "\n",
    "line_eq = \"y = \" + str(round(slope,2)) + \"x + \" + str(round(intercept,2))\n",
    "\n",
    "plt.scatter(x_values,y_values)\n",
    "plt.plot(x_values,regress_values,\"r-\")\n",
    "plt.xlabel(\"Lat\") \n",
    "plt.ylabel(\"Wind Speed MPH\")\n",
    "plt.title(\"Latitude vs Windspeed(MPH)\")\n",
    "plt.annotate(line_eq,(22,28),fontsize=10,color=\"red\")\n",
    "plt.savefig(\"output_data/windspeed_northlatitude_regres\")\n",
    "plt.show()"
   ]
  },
  {
   "cell_type": "markdown",
   "metadata": {},
   "source": [
    "####  Southern Hemisphere - Wind Speed (mph) vs. Latitude Linear Regression"
   ]
  },
  {
   "cell_type": "code",
   "execution_count": 103,
   "metadata": {},
   "outputs": [
    {
     "data": {
      "image/png": "[encoded data removed]",
      "text/plain": [
       "<Figure size 432x288 with 1 Axes>"
      ]
     },
     "metadata": {
      "needs_background": "light"
     },
     "output_type": "display_data"
    }
   ],
   "source": [
    "x_values = south_hem_df[\"Lat\"]\n",
    "y_values = south_hem_df[\"Wind Speed\"]\n",
    "\n",
    "(slope, intercept, rvalue, pvalue, stderr) = linregress(x_values, y_values)\n",
    "regress_values = x_values * slope + intercept\n",
    "\n",
    "line_eq = \"y = \" + str(round(slope,2)) + \"x + \" + str(round(intercept,2))\n",
    "\n",
    "plt.scatter(x_values,y_values)\n",
    "plt.plot(x_values,regress_values,\"r-\")\n",
    "plt.xlabel(\"Lat\") \n",
    "plt.ylabel(\"Wind Speed MPH\")\n",
    "plt.title(\"Latitude vs Windspeed (MPH)\")\n",
    "plt.annotate(line_eq,(-42,21),fontsize=10,color=\"red\")\n",
    "plt.savefig(\"output_data/windspeed_southlatitude_regres\")\n",
    "plt.show()"
   ]
  },
  {
   "cell_type": "markdown",
   "metadata": {},
   "source": [
    "For Part I, you must include a written description of three observable trends based on the data.\n",
    "Obeservable Trends:\n",
    "    1. The strongest correlations are that the closer to the equator the higher the temperatures are for those places.\n",
    "    2. The weakest correlation is that lattitude has little affect on humidity, which is slightyl suprising to me.\n",
    "    3. The average wind speed seems to be around 7mph, but interesting we can see a cluster of dots latitude 40, so I'm not sure if the data is biased for that region or we are seeing a small storm go by that area!\n"
   ]
  }
 ],
 "metadata": {
  "anaconda-cloud": {},
  "kernel_info": {
   "name": "python3"
  },
  "kernelspec": {
   "display_name": "Python 3",
   "language": "python",
   "name": "python3"
  },
  "language_info": {
   "codemirror_mode": {
    "name": "ipython",
    "version": 3
   },
   "file_extension": ".py",
   "mimetype": "text/x-python",
   "name": "python",
   "nbconvert_exporter": "python",
   "pygments_lexer": "ipython3",
   "version": "3.8.8"
  },
  "latex_envs": {
   "LaTeX_envs_menu_present": true,
   "autoclose": false,
   "autocomplete": true,
   "bibliofile": "biblio.bib",
   "cite_by": "apalike",
   "current_citInitial": 1,
   "eqLabelWithNumbers": true,
   "eqNumInitial": 1,
   "hotkeys": {
    "equation": "Ctrl-E",
    "itemize": "Ctrl-I"
   },
   "labels_anchors": false,
   "latex_user_defs": false,
   "report_style_numbering": false,
   "user_envs_cfg": false
  },
  "nteract": {
   "version": "0.12.3"
  }
 },
 "nbformat": 4,
 "nbformat_minor": 2
}
