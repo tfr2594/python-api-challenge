{
 "cells": [
  {
   "cell_type": "markdown",
   "metadata": {},
   "source": [
    "# VacationPy\n",
    "----\n",
    "\n",
    "#### Note\n",
    "* Keep an eye on your API usage. Use https://developers.google.com/maps/reporting/gmp-reporting as reference for how to monitor your usage and billing.\n",
    "\n",
    "* Instructions have been included for each segment. You do not have to follow them exactly, but they are included to help you think through the steps."
   ]
  },
  {
   "cell_type": "code",
   "execution_count": 13,
   "metadata": {},
   "outputs": [],
   "source": [
    "# Dependencies and Setup\n",
    "import matplotlib.pyplot as plt\n",
    "import pandas as pd\n",
    "import numpy as np\n",
    "import requests\n",
    "import gmaps\n",
    "import os\n",
    "\n",
    "# Import API key\n",
    "from api_keys import g_key"
   ]
  },
  {
   "cell_type": "markdown",
   "metadata": {},
   "source": [
    "### Store Part I results into DataFrame\n",
    "* Load the csv exported in Part I to a DataFrame"
   ]
  },
  {
   "cell_type": "code",
   "execution_count": 2,
   "metadata": {},
   "outputs": [
    {
     "data": {
      "text/html": [
       "<div>\n",
       "<style scoped>\n",
       "    .dataframe tbody tr th:only-of-type {\n",
       "        vertical-align: middle;\n",
       "    }\n",
       "\n",
       "    .dataframe tbody tr th {\n",
       "        vertical-align: top;\n",
       "    }\n",
       "\n",
       "    .dataframe thead th {\n",
       "        text-align: right;\n",
       "    }\n",
       "</style>\n",
       "<table border=\"1\" class=\"dataframe\">\n",
       "  <thead>\n",
       "    <tr style=\"text-align: right;\">\n",
       "      <th></th>\n",
       "      <th>City</th>\n",
       "      <th>Lat</th>\n",
       "      <th>Lng</th>\n",
       "      <th>Max Temp</th>\n",
       "      <th>Humidity</th>\n",
       "      <th>Cloudiness</th>\n",
       "      <th>Wind Speed</th>\n",
       "      <th>Country</th>\n",
       "      <th>Date</th>\n",
       "    </tr>\n",
       "  </thead>\n",
       "  <tbody>\n",
       "    <tr>\n",
       "      <th>0</th>\n",
       "      <td>Chenzhou</td>\n",
       "      <td>25.8000</td>\n",
       "      <td>113.0333</td>\n",
       "      <td>64.76</td>\n",
       "      <td>83</td>\n",
       "      <td>100</td>\n",
       "      <td>6.15</td>\n",
       "      <td>CN</td>\n",
       "      <td>1633660180</td>\n",
       "    </tr>\n",
       "    <tr>\n",
       "      <th>1</th>\n",
       "      <td>Los Negros</td>\n",
       "      <td>-17.7333</td>\n",
       "      <td>-63.4333</td>\n",
       "      <td>72.95</td>\n",
       "      <td>63</td>\n",
       "      <td>47</td>\n",
       "      <td>3.38</td>\n",
       "      <td>BO</td>\n",
       "      <td>1633660181</td>\n",
       "    </tr>\n",
       "    <tr>\n",
       "      <th>2</th>\n",
       "      <td>Flin Flon</td>\n",
       "      <td>54.7682</td>\n",
       "      <td>-101.8650</td>\n",
       "      <td>44.33</td>\n",
       "      <td>46</td>\n",
       "      <td>5</td>\n",
       "      <td>5.70</td>\n",
       "      <td>CA</td>\n",
       "      <td>1633660183</td>\n",
       "    </tr>\n",
       "    <tr>\n",
       "      <th>3</th>\n",
       "      <td>Punta Arenas</td>\n",
       "      <td>-53.1500</td>\n",
       "      <td>-70.9167</td>\n",
       "      <td>44.71</td>\n",
       "      <td>61</td>\n",
       "      <td>0</td>\n",
       "      <td>17.27</td>\n",
       "      <td>CL</td>\n",
       "      <td>1633660185</td>\n",
       "    </tr>\n",
       "    <tr>\n",
       "      <th>4</th>\n",
       "      <td>Gawler</td>\n",
       "      <td>-34.6000</td>\n",
       "      <td>138.7333</td>\n",
       "      <td>71.22</td>\n",
       "      <td>31</td>\n",
       "      <td>100</td>\n",
       "      <td>11.14</td>\n",
       "      <td>AU</td>\n",
       "      <td>1633660187</td>\n",
       "    </tr>\n",
       "  </tbody>\n",
       "</table>\n",
       "</div>"
      ],
      "text/plain": [
       "           City      Lat       Lng  Max Temp  Humidity  Cloudiness  \\\n",
       "0      Chenzhou  25.8000  113.0333     64.76        83         100   \n",
       "1    Los Negros -17.7333  -63.4333     72.95        63          47   \n",
       "2     Flin Flon  54.7682 -101.8650     44.33        46           5   \n",
       "3  Punta Arenas -53.1500  -70.9167     44.71        61           0   \n",
       "4        Gawler -34.6000  138.7333     71.22        31         100   \n",
       "\n",
       "   Wind Speed Country        Date  \n",
       "0        6.15      CN  1633660180  \n",
       "1        3.38      BO  1633660181  \n",
       "2        5.70      CA  1633660183  \n",
       "3       17.27      CL  1633660185  \n",
       "4       11.14      AU  1633660187  "
      ]
     },
     "execution_count": 2,
     "metadata": {},
     "output_type": "execute_result"
    }
   ],
   "source": [
    "#read the csv the path will be different \n",
    "\n",
    "cities_weatherdf = pd.read_csv(\"../WeatherPy/output_data/cities.csv\")\n",
    "\n",
    "cities_weatherdf.head()"
   ]
  },
  {
   "cell_type": "code",
   "execution_count": 3,
   "metadata": {},
   "outputs": [],
   "source": [
    "#not exactly sure what it does, but's in all the the class demos, so it probably gets the api kiey from googlwe\n",
    "gmaps.configure(api_key=g_key)"
   ]
  },
  {
   "cell_type": "markdown",
   "metadata": {},
   "source": [
    "### Humidity Heatmap\n",
    "* Configure gmaps.\n",
    "* Use the Lat and Lng as locations and Humidity as the weight.\n",
    "* Add Heatmap layer to map."
   ]
  },
  {
   "cell_type": "code",
   "execution_count": 4,
   "metadata": {},
   "outputs": [],
   "source": [
    "#the locations and weight for the map\n",
    "locations = cities_weatherdf[['Lat','Lng']]\n",
    "humidity = cities_weatherdf['Humidity']"
   ]
  },
  {
   "cell_type": "code",
   "execution_count": 5,
   "metadata": {},
   "outputs": [
    {
     "data": {
      "application/vnd.jupyter.widget-view+json": {
       "model_id": "a63cb478ba3b4a28a7eca99b2d49e8d6",
       "version_major": 2,
       "version_minor": 0
      },
      "text/plain": [
       "Figure(layout=FigureLayout(height='420px'))"
      ]
     },
     "metadata": {},
     "output_type": "display_data"
    },
    {
     "data": {
      "text/plain": [
       "<Figure size 432x288 with 0 Axes>"
      ]
     },
     "metadata": {},
     "output_type": "display_data"
    }
   ],
   "source": [
    "#look at class 3 video  \n",
    "\n",
    "fig = gmaps.figure()\n",
    "\n",
    "heat_layer = gmaps.heatmap_layer(locations, weights=humidity, \n",
    "                                 dissipating=False, max_intensity=100,\n",
    "                                 point_radius = 1)\n",
    "\n",
    "fig.add_layer(heat_layer)\n",
    "plt.savefig(\"humid_heatmap\")\n",
    "fig"
   ]
  },
  {
   "cell_type": "code",
   "execution_count": null,
   "metadata": {},
   "outputs": [],
   "source": []
  },
  {
   "cell_type": "markdown",
   "metadata": {},
   "source": [
    "### Create new DataFrame fitting weather criteria\n",
    "* Narrow down the cities to fit weather conditions.\n",
    "* Drop any rows will null values."
   ]
  },
  {
   "cell_type": "markdown",
   "metadata": {},
   "source": [
    "A max temperature lower than 80 degrees but higher than 70.\n",
    "\n",
    "\n",
    "Wind speed less than 10 mph.\n",
    "\n",
    "\n",
    "Zero cloudiness.\n",
    "\n",
    "\n",
    "Drop any rows that don't contain all three conditions. You want to be sure the weather is ideal.\n",
    "\n",
    "\n",
    "Note: Feel free to adjust to your specifications but be sure to limit the number of rows returned by your API requests to a reasonable number."
   ]
  },
  {
   "cell_type": "code",
   "execution_count": 6,
   "metadata": {},
   "outputs": [
    {
     "data": {
      "text/html": [
       "<div>\n",
       "<style scoped>\n",
       "    .dataframe tbody tr th:only-of-type {\n",
       "        vertical-align: middle;\n",
       "    }\n",
       "\n",
       "    .dataframe tbody tr th {\n",
       "        vertical-align: top;\n",
       "    }\n",
       "\n",
       "    .dataframe thead th {\n",
       "        text-align: right;\n",
       "    }\n",
       "</style>\n",
       "<table border=\"1\" class=\"dataframe\">\n",
       "  <thead>\n",
       "    <tr style=\"text-align: right;\">\n",
       "      <th></th>\n",
       "      <th>City</th>\n",
       "      <th>Lat</th>\n",
       "      <th>Lng</th>\n",
       "      <th>Max Temp</th>\n",
       "      <th>Humidity</th>\n",
       "      <th>Cloudiness</th>\n",
       "      <th>Wind Speed</th>\n",
       "      <th>Country</th>\n",
       "      <th>Date</th>\n",
       "    </tr>\n",
       "  </thead>\n",
       "  <tbody>\n",
       "    <tr>\n",
       "      <th>70</th>\n",
       "      <td>Broken Hill</td>\n",
       "      <td>-31.9500</td>\n",
       "      <td>141.4333</td>\n",
       "      <td>73.11</td>\n",
       "      <td>17</td>\n",
       "      <td>0</td>\n",
       "      <td>5.75</td>\n",
       "      <td>AU</td>\n",
       "      <td>1633660315</td>\n",
       "    </tr>\n",
       "    <tr>\n",
       "      <th>236</th>\n",
       "      <td>San Patricio</td>\n",
       "      <td>28.0170</td>\n",
       "      <td>-97.5169</td>\n",
       "      <td>79.84</td>\n",
       "      <td>57</td>\n",
       "      <td>0</td>\n",
       "      <td>7.45</td>\n",
       "      <td>US</td>\n",
       "      <td>1633660629</td>\n",
       "    </tr>\n",
       "    <tr>\n",
       "      <th>345</th>\n",
       "      <td>Sirte</td>\n",
       "      <td>31.2089</td>\n",
       "      <td>16.5887</td>\n",
       "      <td>74.88</td>\n",
       "      <td>72</td>\n",
       "      <td>0</td>\n",
       "      <td>8.14</td>\n",
       "      <td>LY</td>\n",
       "      <td>1633660847</td>\n",
       "    </tr>\n",
       "    <tr>\n",
       "      <th>360</th>\n",
       "      <td>Tūkrah</td>\n",
       "      <td>32.5341</td>\n",
       "      <td>20.5791</td>\n",
       "      <td>71.60</td>\n",
       "      <td>56</td>\n",
       "      <td>0</td>\n",
       "      <td>6.17</td>\n",
       "      <td>LY</td>\n",
       "      <td>1633660876</td>\n",
       "    </tr>\n",
       "    <tr>\n",
       "      <th>529</th>\n",
       "      <td>Alanya</td>\n",
       "      <td>36.5438</td>\n",
       "      <td>31.9998</td>\n",
       "      <td>71.29</td>\n",
       "      <td>31</td>\n",
       "      <td>0</td>\n",
       "      <td>4.88</td>\n",
       "      <td>TR</td>\n",
       "      <td>1633661204</td>\n",
       "    </tr>\n",
       "  </tbody>\n",
       "</table>\n",
       "</div>"
      ],
      "text/plain": [
       "             City      Lat       Lng  Max Temp  Humidity  Cloudiness  \\\n",
       "70    Broken Hill -31.9500  141.4333     73.11        17           0   \n",
       "236  San Patricio  28.0170  -97.5169     79.84        57           0   \n",
       "345         Sirte  31.2089   16.5887     74.88        72           0   \n",
       "360        Tūkrah  32.5341   20.5791     71.60        56           0   \n",
       "529        Alanya  36.5438   31.9998     71.29        31           0   \n",
       "\n",
       "     Wind Speed Country        Date  \n",
       "70         5.75      AU  1633660315  \n",
       "236        7.45      US  1633660629  \n",
       "345        8.14      LY  1633660847  \n",
       "360        6.17      LY  1633660876  \n",
       "529        4.88      TR  1633661204  "
      ]
     },
     "execution_count": 6,
     "metadata": {},
     "output_type": "execute_result"
    }
   ],
   "source": [
    "#use loc statements to narrow down the resulys\n",
    "perf_cities_df = cities_weatherdf.loc[(cities_weatherdf['Max Temp'] < 80) & (cities_weatherdf['Max Temp'] > 70) &\n",
    "                                      (cities_weatherdf['Wind Speed'] < 10) & (cities_weatherdf['Cloudiness'] == 0)] \n",
    "\n",
    "perf_cities_df"
   ]
  },
  {
   "cell_type": "markdown",
   "metadata": {},
   "source": [
    "### Hotel Map\n",
    "* Store into variable named `hotel_df`.\n",
    "* Add a \"Hotel Name\" column to the DataFrame.\n",
    "* Set parameters to search for hotels with 5000 meters.\n",
    "* Hit the Google Places API for each city's coordinates.\n",
    "* Store the first Hotel result into the DataFrame.\n",
    "* Plot markers on top of the heatmap."
   ]
  },
  {
   "cell_type": "code",
   "execution_count": 7,
   "metadata": {},
   "outputs": [
    {
     "data": {
      "text/html": [
       "<div>\n",
       "<style scoped>\n",
       "    .dataframe tbody tr th:only-of-type {\n",
       "        vertical-align: middle;\n",
       "    }\n",
       "\n",
       "    .dataframe tbody tr th {\n",
       "        vertical-align: top;\n",
       "    }\n",
       "\n",
       "    .dataframe thead th {\n",
       "        text-align: right;\n",
       "    }\n",
       "</style>\n",
       "<table border=\"1\" class=\"dataframe\">\n",
       "  <thead>\n",
       "    <tr style=\"text-align: right;\">\n",
       "      <th></th>\n",
       "      <th>City</th>\n",
       "      <th>Lat</th>\n",
       "      <th>Lng</th>\n",
       "      <th>Max Temp</th>\n",
       "      <th>Humidity</th>\n",
       "      <th>Cloudiness</th>\n",
       "      <th>Wind Speed</th>\n",
       "      <th>Country</th>\n",
       "      <th>Date</th>\n",
       "    </tr>\n",
       "  </thead>\n",
       "  <tbody>\n",
       "    <tr>\n",
       "      <th>70</th>\n",
       "      <td>Broken Hill</td>\n",
       "      <td>-31.9500</td>\n",
       "      <td>141.4333</td>\n",
       "      <td>73.11</td>\n",
       "      <td>17</td>\n",
       "      <td>0</td>\n",
       "      <td>5.75</td>\n",
       "      <td>AU</td>\n",
       "      <td>1633660315</td>\n",
       "    </tr>\n",
       "    <tr>\n",
       "      <th>236</th>\n",
       "      <td>San Patricio</td>\n",
       "      <td>28.0170</td>\n",
       "      <td>-97.5169</td>\n",
       "      <td>79.84</td>\n",
       "      <td>57</td>\n",
       "      <td>0</td>\n",
       "      <td>7.45</td>\n",
       "      <td>US</td>\n",
       "      <td>1633660629</td>\n",
       "    </tr>\n",
       "    <tr>\n",
       "      <th>345</th>\n",
       "      <td>Sirte</td>\n",
       "      <td>31.2089</td>\n",
       "      <td>16.5887</td>\n",
       "      <td>74.88</td>\n",
       "      <td>72</td>\n",
       "      <td>0</td>\n",
       "      <td>8.14</td>\n",
       "      <td>LY</td>\n",
       "      <td>1633660847</td>\n",
       "    </tr>\n",
       "    <tr>\n",
       "      <th>360</th>\n",
       "      <td>Tūkrah</td>\n",
       "      <td>32.5341</td>\n",
       "      <td>20.5791</td>\n",
       "      <td>71.60</td>\n",
       "      <td>56</td>\n",
       "      <td>0</td>\n",
       "      <td>6.17</td>\n",
       "      <td>LY</td>\n",
       "      <td>1633660876</td>\n",
       "    </tr>\n",
       "    <tr>\n",
       "      <th>529</th>\n",
       "      <td>Alanya</td>\n",
       "      <td>36.5438</td>\n",
       "      <td>31.9998</td>\n",
       "      <td>71.29</td>\n",
       "      <td>31</td>\n",
       "      <td>0</td>\n",
       "      <td>4.88</td>\n",
       "      <td>TR</td>\n",
       "      <td>1633661204</td>\n",
       "    </tr>\n",
       "  </tbody>\n",
       "</table>\n",
       "</div>"
      ],
      "text/plain": [
       "             City      Lat       Lng  Max Temp  Humidity  Cloudiness  \\\n",
       "70    Broken Hill -31.9500  141.4333     73.11        17           0   \n",
       "236  San Patricio  28.0170  -97.5169     79.84        57           0   \n",
       "345         Sirte  31.2089   16.5887     74.88        72           0   \n",
       "360        Tūkrah  32.5341   20.5791     71.60        56           0   \n",
       "529        Alanya  36.5438   31.9998     71.29        31           0   \n",
       "\n",
       "     Wind Speed Country        Date  \n",
       "70         5.75      AU  1633660315  \n",
       "236        7.45      US  1633660629  \n",
       "345        8.14      LY  1633660847  \n",
       "360        6.17      LY  1633660876  \n",
       "529        4.88      TR  1633661204  "
      ]
     },
     "execution_count": 7,
     "metadata": {},
     "output_type": "execute_result"
    }
   ],
   "source": [
    "hotel_df = perf_cities_df.copy()\n",
    "\n",
    "hotel_df"
   ]
  },
  {
   "cell_type": "code",
   "execution_count": 8,
   "metadata": {},
   "outputs": [],
   "source": [
    "hotel_df[\"Hotel Name\"] = \"\"\n"
   ]
  },
  {
   "cell_type": "code",
   "execution_count": 9,
   "metadata": {},
   "outputs": [],
   "source": [
    "#get the base url (glasses)\n",
    "base_url = 'https://maps.googleapis.com/maps/api/place/nearbysearch/json'\n",
    "    \n",
    "# also rewatch class video 2 and 3 for api\n",
    "#loop through the rows of the df\n",
    "\n",
    "for index, row in hotel_df.iterrows():\n",
    "    \n",
    "    coordinates = f\"{row['Lat']},{row['Lng']}\"\n",
    "    params = {\"location\": coordinates, \"radius\": 5000, \"type\": 'lodging', \"key\": g_key}\n",
    "    response = requests.get(base_url, params=params).json()\n",
    "    try:\n",
    "        hotel_df.loc[index, 'Hotel Name'] = response['results'][0]['name']\n",
    "    except(KeyError, IndexError):\n",
    "        print('Missing Field. Skipping...')"
   ]
  },
  {
   "cell_type": "code",
   "execution_count": 10,
   "metadata": {},
   "outputs": [
    {
     "data": {
      "text/html": [
       "<div>\n",
       "<style scoped>\n",
       "    .dataframe tbody tr th:only-of-type {\n",
       "        vertical-align: middle;\n",
       "    }\n",
       "\n",
       "    .dataframe tbody tr th {\n",
       "        vertical-align: top;\n",
       "    }\n",
       "\n",
       "    .dataframe thead th {\n",
       "        text-align: right;\n",
       "    }\n",
       "</style>\n",
       "<table border=\"1\" class=\"dataframe\">\n",
       "  <thead>\n",
       "    <tr style=\"text-align: right;\">\n",
       "      <th></th>\n",
       "      <th>City</th>\n",
       "      <th>Lat</th>\n",
       "      <th>Lng</th>\n",
       "      <th>Max Temp</th>\n",
       "      <th>Humidity</th>\n",
       "      <th>Cloudiness</th>\n",
       "      <th>Wind Speed</th>\n",
       "      <th>Country</th>\n",
       "      <th>Date</th>\n",
       "      <th>Hotel Name</th>\n",
       "    </tr>\n",
       "  </thead>\n",
       "  <tbody>\n",
       "    <tr>\n",
       "      <th>70</th>\n",
       "      <td>Broken Hill</td>\n",
       "      <td>-31.9500</td>\n",
       "      <td>141.4333</td>\n",
       "      <td>73.11</td>\n",
       "      <td>17</td>\n",
       "      <td>0</td>\n",
       "      <td>5.75</td>\n",
       "      <td>AU</td>\n",
       "      <td>1633660315</td>\n",
       "      <td>Royal Exchange Hotel</td>\n",
       "    </tr>\n",
       "    <tr>\n",
       "      <th>236</th>\n",
       "      <td>San Patricio</td>\n",
       "      <td>28.0170</td>\n",
       "      <td>-97.5169</td>\n",
       "      <td>79.84</td>\n",
       "      <td>57</td>\n",
       "      <td>0</td>\n",
       "      <td>7.45</td>\n",
       "      <td>US</td>\n",
       "      <td>1633660629</td>\n",
       "      <td>Motel 6 Sinton, TX</td>\n",
       "    </tr>\n",
       "    <tr>\n",
       "      <th>345</th>\n",
       "      <td>Sirte</td>\n",
       "      <td>31.2089</td>\n",
       "      <td>16.5887</td>\n",
       "      <td>74.88</td>\n",
       "      <td>72</td>\n",
       "      <td>0</td>\n",
       "      <td>8.14</td>\n",
       "      <td>LY</td>\n",
       "      <td>1633660847</td>\n",
       "      <td>الهادي ابوشعاله سرت</td>\n",
       "    </tr>\n",
       "    <tr>\n",
       "      <th>360</th>\n",
       "      <td>Tūkrah</td>\n",
       "      <td>32.5341</td>\n",
       "      <td>20.5791</td>\n",
       "      <td>71.60</td>\n",
       "      <td>56</td>\n",
       "      <td>0</td>\n",
       "      <td>6.17</td>\n",
       "      <td>LY</td>\n",
       "      <td>1633660876</td>\n",
       "      <td>Lagrota restaurant</td>\n",
       "    </tr>\n",
       "    <tr>\n",
       "      <th>529</th>\n",
       "      <td>Alanya</td>\n",
       "      <td>36.5438</td>\n",
       "      <td>31.9998</td>\n",
       "      <td>71.29</td>\n",
       "      <td>31</td>\n",
       "      <td>0</td>\n",
       "      <td>4.88</td>\n",
       "      <td>TR</td>\n",
       "      <td>1633661204</td>\n",
       "      <td>Panorama Hotel</td>\n",
       "    </tr>\n",
       "  </tbody>\n",
       "</table>\n",
       "</div>"
      ],
      "text/plain": [
       "             City      Lat       Lng  Max Temp  Humidity  Cloudiness  \\\n",
       "70    Broken Hill -31.9500  141.4333     73.11        17           0   \n",
       "236  San Patricio  28.0170  -97.5169     79.84        57           0   \n",
       "345         Sirte  31.2089   16.5887     74.88        72           0   \n",
       "360        Tūkrah  32.5341   20.5791     71.60        56           0   \n",
       "529        Alanya  36.5438   31.9998     71.29        31           0   \n",
       "\n",
       "     Wind Speed Country        Date            Hotel Name  \n",
       "70         5.75      AU  1633660315  Royal Exchange Hotel  \n",
       "236        7.45      US  1633660629    Motel 6 Sinton, TX  \n",
       "345        8.14      LY  1633660847   الهادي ابوشعاله سرت  \n",
       "360        6.17      LY  1633660876    Lagrota restaurant  \n",
       "529        4.88      TR  1633661204        Panorama Hotel  "
      ]
     },
     "execution_count": 10,
     "metadata": {},
     "output_type": "execute_result"
    }
   ],
   "source": [
    "#check if the hotels got added\n",
    "hotel_df"
   ]
  },
  {
   "cell_type": "code",
   "execution_count": 11,
   "metadata": {},
   "outputs": [],
   "source": [
    "# NOTE: Do not change any of the code in this cell\n",
    "\n",
    "# Using the template add the hotel marks to the heatmap\n",
    "info_box_template = \"\"\"\n",
    "<dl>\n",
    "<dt>Name</dt><dd>{Hotel Name}</dd>\n",
    "<dt>City</dt><dd>{City}</dd>\n",
    "<dt>Country</dt><dd>{Country}</dd>\n",
    "</dl>\n",
    "\"\"\"\n",
    "# Store the DataFrame Row\n",
    "# NOTE: be sure to update with your DataFrame name\n",
    "hotel_info = [info_box_template.format(**row) for index, row in hotel_df.iterrows()]\n",
    "locations = hotel_df[[\"Lat\", \"Lng\"]]"
   ]
  },
  {
   "cell_type": "code",
   "execution_count": 14,
   "metadata": {},
   "outputs": [
    {
     "data": {
      "application/vnd.jupyter.widget-view+json": {
       "model_id": "a63cb478ba3b4a28a7eca99b2d49e8d6",
       "version_major": 2,
       "version_minor": 0
      },
      "text/plain": [
       "Figure(layout=FigureLayout(height='420px'))"
      ]
     },
     "metadata": {},
     "output_type": "display_data"
    },
    {
     "data": {
      "text/plain": [
       "<Figure size 432x288 with 0 Axes>"
      ]
     },
     "metadata": {},
     "output_type": "display_data"
    }
   ],
   "source": [
    "# Add marker layer ontop of heat map\n",
    "markers = gmaps.marker_layer(locations)\n",
    "fig.add_layer(markers)\n",
    "\n",
    "# Display figure\n",
    "plt.savefig(\"perf_hotels\")\n",
    "fig"
   ]
  },
  {
   "cell_type": "code",
   "execution_count": null,
   "metadata": {},
   "outputs": [],
   "source": []
  },
  {
   "cell_type": "code",
   "execution_count": null,
   "metadata": {},
   "outputs": [],
   "source": []
  }
 ],
 "metadata": {
  "kernelspec": {
   "display_name": "Python 3",
   "language": "python",
   "name": "python3"
  },
  "language_info": {
   "codemirror_mode": {
    "name": "ipython",
    "version": 3
   },
   "file_extension": ".py",
   "mimetype": "text/x-python",
   "name": "python",
   "nbconvert_exporter": "python",
   "pygments_lexer": "ipython3",
   "version": "3.8.8"
  },
  "latex_envs": {
   "LaTeX_envs_menu_present": true,
   "autoclose": false,
   "autocomplete": true,
   "bibliofile": "biblio.bib",
   "cite_by": "apalike",
   "current_citInitial": 1,
   "eqLabelWithNumbers": true,
   "eqNumInitial": 1,
   "hotkeys": {
    "equation": "Ctrl-E",
    "itemize": "Ctrl-I"
   },
   "labels_anchors": false,
   "latex_user_defs": false,
   "report_style_numbering": false,
   "user_envs_cfg": false
  }
 },
 "nbformat": 4,
 "nbformat_minor": 4
}
